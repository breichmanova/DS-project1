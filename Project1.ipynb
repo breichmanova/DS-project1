{
 "cells": [
  {
   "cell_type": "markdown",
   "metadata": {},
   "source": [
    "# Czechoslovakia? Or Czech Republik and Slovakia?"
   ]
  },
  {
   "cell_type": "code",
   "execution_count": 2,
   "metadata": {},
   "outputs": [],
   "source": [
    "import requests\n",
    "import pandas as pd\n",
    "import numpy as np"
   ]
  },
  {
   "cell_type": "markdown",
   "metadata": {},
   "source": [
    "## Features\n",
    "**Population, total**\n",
    "Total population is based on the de facto definition of population, which counts all residents regardless of legal status or citizenship. The values shown are midyear estimates.\n",
    "\n",
    "**Population growth (annual %)**\n",
    "Annual population growth rate for year t is the exponential rate of growth of midyear population from year t-1 to t, expressed as a percentage . Population is based on the de facto definition of population, which counts all residents regardless of legal status or citizenship.\n",
    "\n",
    "**GDP (current US$)**\n",
    "GDP at purchaser's prices is the sum of gross value added by all resident producers in the economy plus any product taxes and minus any subsidies not included in the value of the products. It is calculated without making deductions for depreciation of fabricated assets or for depletion and degradation of natural resources. Data are in current U.S. dollars. Dollar figures for GDP are converted from domestic currencies using single year official exchange rates. For a few countries where the official exchange rate does not reflect the rate effectively applied to actual foreign exchange transactions, an alternative conversion factor is used.\n",
    "\n",
    "**GDP per capita (current US$)**\n",
    "GDP per capita is gross domestic product divided by midyear population. GDP is the sum of gross value added by all resident producers in the economy plus any product taxes and minus any subsidies not included in the value of the products. It is calculated without making deductions for depreciation of fabricated assets or for depletion and degradation of natural resources. Data are in current U.S. dollars.\n",
    "\n",
    "**Inflation, consumer prices (annual %)**\n",
    "Inflation as measured by the consumer price index reflects the annual percentage change in the cost to the average consumer of acquiring a basket of goods and services that may be fixed or changed at specified intervals, such as yearly. The Laspeyres formula is generally used.\n",
    "\n",
    "**Primary completion rate, total (% of relevant age group)**\n",
    "Primary completion rate, or gross intake ratio to the last grade of primary education, is the number of new entrants (enrollments minus repeaters) in the last grade of primary education, regardless of age, divided by the population at the entrance age for the last grade of primary education. Data limitations preclude adjusting for students who drop out during the final year of primary education.\n",
    "\n",
    "**Wage and salaried workers, total (% of total employment) (modeled ILO estimate)**\n",
    "Wage and salaried workers (employees) are those workers who hold the type of jobs defined as \"paid employment jobs,\" where the incumbents hold explicit (written or oral) or implicit employment contracts that give them a basic remuneration that is not directly dependent upon the revenue of the unit for which they work.\n",
    "\n",
    "**Unemployment, total (% of total labor force) (modeled ILO estimate)**\n",
    "Unemployment refers to the share of the labor force that is without work but available for and seeking employment.\n",
    "\n",
    "**Unemployment, female/male (% of male labor force) (modeled ILO estimate)**\n",
    "Unemployment refers to the share of the labor force that is without work but available for and seeking employment.\n",
    "\n",
    "**Labor force, total**\n",
    "Labor force comprises people ages 15 and older who supply labor for the production of goods and services during a specified period. It includes people who are currently employed and people who are unemployed but seeking work as well as first-time job-seekers. Not everyone who works is included, however. Unpaid workers, family workers, and students are often omitted, and some countries do not count members of the armed forces. Labor force size tends to vary during the year as seasonal workers enter and leave.\n",
    "\n",
    "**Researchers in R&D (per million people)**\n",
    "The number of researchers engaged in Research &Development (R&D), expressed as per million. Researchers are professionals who conduct research and improve or develop concepts, theories, models techniques instrumentation, software of operational methods. R&D covers basic research, applied research, and experimental development."
   ]
  },
  {
   "cell_type": "code",
   "execution_count": 4,
   "metadata": {},
   "outputs": [
    {
     "data": {
      "text/plain": [
       "[{'message': [{'id': '120',\n",
       "    'key': 'Invalid value',\n",
       "    'value': 'The provided parameter value is not valid'},\n",
       "   {'id': '120',\n",
       "    'key': 'Invalid value',\n",
       "    'value': 'The provided parameter value is not valid'}]}]"
      ]
     },
     "execution_count": 4,
     "metadata": {},
     "output_type": "execute_result"
    }
   ],
   "source": [
    "indicators = ['SP.POP.TOTL', # total population\n",
    "              'SP.POP.GROW', # population growth\n",
    "              'NY.GDP.MKTP.CD', # GDP in USD\n",
    "              'NY.GDP.PCAP.CD', # GDP per capita\n",
    "              'FP.CPI.TOTL.ZG', # inflation, consumer prices\n",
    "              'SE.PRM.CMPT.ZS', # primary completion rate\n",
    "              'SL.EMP.WORK.ZS', # wage and salaried workers \n",
    "              'SL.UEM.TOTL.ZS', # unemployment total\n",
    "              'SL.UEM.TOTL.FE.ZS', # unemployment female\n",
    "              'SL.UEM.TOTL.MA.ZS', #enmployment male\n",
    "              'SL.TLF.TOTL.IN', # total labour force\n",
    "              'SP.POP.SCIE.RD.P6' #researchers in R&D\n",
    "             ]\n",
    "r = requests.get(f'http://api.worldbank.org/v2/country/1W;cz;sk/indicator/{indicators}?format=json&date=1993:2020&per_page=500&source=2')\n",
    "r\n",
    "data = r.json()\n",
    "data"
   ]
  },
  {
   "cell_type": "code",
   "execution_count": null,
   "metadata": {},
   "outputs": [],
   "source": []
  }
 ],
 "metadata": {
  "kernelspec": {
   "display_name": "Python 3",
   "language": "python",
   "name": "python3"
  },
  "language_info": {
   "codemirror_mode": {
    "name": "ipython",
    "version": 3
   },
   "file_extension": ".py",
   "mimetype": "text/x-python",
   "name": "python",
   "nbconvert_exporter": "python",
   "pygments_lexer": "ipython3",
   "version": "3.7.5"
  }
 },
 "nbformat": 4,
 "nbformat_minor": 4
}
